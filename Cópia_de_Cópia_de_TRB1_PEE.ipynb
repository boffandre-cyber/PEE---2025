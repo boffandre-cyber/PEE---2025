{
  "nbformat": 4,
  "nbformat_minor": 0,
  "metadata": {
    "colab": {
      "provenance": [],
      "include_colab_link": true
    },
    "kernelspec": {
      "name": "python3",
      "display_name": "Python 3"
    },
    "language_info": {
      "name": "python"
    }
  },
  "cells": [
    {
      "cell_type": "markdown",
      "metadata": {
        "id": "view-in-github",
        "colab_type": "text"
      },
      "source": [
        "<a href=\"https://colab.research.google.com/github/boffandre-cyber/PEE---2025/blob/main/C%C3%B3pia_de_C%C3%B3pia_de_TRB1_PEE.ipynb\" target=\"_parent\"><img src=\"https://colab.research.google.com/assets/colab-badge.svg\" alt=\"Open In Colab\"/></a>"
      ]
    },
    {
      "cell_type": "markdown",
      "source": [
        "ainda em falta:\n",
        "\n",
        "*   ajustar os comentários durante o código (padronizar mais), escrever uma breve\n",
        "*   introdução explicando objetivos,\n",
        "*   colocar todas as bibliotecas que estão sendo usadas na primeira secção de código e explica-las no texto,\n",
        "*   ajustar texto dos gráficos e alguns gráficos com subíndices e explicar cada parte,\n",
        "*   fazer a parte de texto do reservatório\n",
        "* Melhorar os atuais textos"
      ],
      "metadata": {
        "id": "vfKjqwWxagmx"
      }
    },
    {
      "cell_type": "markdown",
      "source": [
        "Introdução\n",
        "---\n",
        "___"
      ],
      "metadata": {
        "id": "3_xGgeQ6PYRe"
      }
    },
    {
      "cell_type": "code",
      "source": [
        "!git clone https://github.com/boffandre-cyber/PEE---2025.git"
      ],
      "metadata": {
        "colab": {
          "base_uri": "https://localhost:8080/"
        },
        "id": "OjMaRpnv7C2b",
        "outputId": "b4177727-9d3d-4eb2-ff0d-25f47a26c8e8"
      },
      "execution_count": 1,
      "outputs": [
        {
          "output_type": "stream",
          "name": "stdout",
          "text": [
            "Cloning into 'PEE---2025'...\n",
            "remote: Enumerating objects: 40, done.\u001b[K\n",
            "remote: Counting objects: 100% (40/40), done.\u001b[K\n",
            "remote: Compressing objects: 100% (39/39), done.\u001b[K\n",
            "remote: Total 40 (delta 21), reused 0 (delta 0), pack-reused 0 (from 0)\u001b[K\n",
            "Receiving objects: 100% (40/40), 1.64 MiB | 9.74 MiB/s, done.\n",
            "Resolving deltas: 100% (21/21), done.\n"
          ]
        }
      ]
    },
    {
      "cell_type": "markdown",
      "source": [
        "Importando Biblitecas e suas funções\n",
        "---\n",
        "---\n",
        "Esta secção de códogo é dedicada e importar todas as bibliotecas que serão utilizadas ao longo do projeto, sendo elas:\n",
        "*   Pandas:\n",
        "*   Numpy:\n",
        "*   Matplotlib:\n",
        "\n"
      ],
      "metadata": {
        "id": "sBAEzfW8PlRi"
      }
    },
    {
      "cell_type": "code",
      "source": [
        "import pandas as pd\n",
        "import numpy as np\n",
        "import re\n",
        "import matplotlib.pyplot as plt"
      ],
      "metadata": {
        "id": "5NwLbB62QL_t"
      },
      "execution_count": null,
      "outputs": []
    },
    {
      "cell_type": "markdown",
      "source": [
        "Lendo o arquivo de dados\n",
        "---\n",
        "---\n",
        "Inicialmente foi buscado um arquivo fluvial no site da ANA (Agencia Nacional das Águas) o qual está no formato csv, portanto deve-se ajusta-lo para a leitura correta pela Biblioteca Pandas, afim de fazer uma análise de dados posterior em forma de dataframe\n"
      ],
      "metadata": {
        "id": "_8TpGnJvQO57"
      }
    },
    {
      "cell_type": "code",
      "source": [
        "# Esta função é necessária para lidar com o formato específico do arquivo,\n",
        "# que contém metadados antes do cabeçalho.\n",
        "import re # Import the re module\n",
        "\n",
        "def read_complex_csv(file_path):\n",
        "    \"\"\"\n",
        "    Lê um arquivo CSV com metadados e retorna um DataFrame.\n",
        "    \"\"\"\n",
        "    with open(file_path, 'r', encoding='latin-1') as f:\n",
        "        lines = f.readlines()\n",
        "\n",
        "    # O cabeçalho está na linha 16 (índice 15).\n",
        "    header_line = lines[15].strip()\n",
        "    data_lines = lines[16:]\n",
        "\n",
        "    # Obter os nomes das colunas, removendo aspas duplas.\n",
        "    columns = [col.strip('\"') for col in header_line.split(';')]\n",
        "\n",
        "    # Processar as linhas de dados, removendo aspas e substituindo vírgulas por pontos.\n",
        "    data = []\n",
        "    for line in data_lines:\n",
        "        if line.strip():  # Ignorar linhas vazias\n",
        "            row = [re.sub(r'\"', '', val).replace(',', '.') for val in line.split(';')]\n",
        "            data.append(row)\n",
        "\n",
        "    # Criar o DataFrame a partir dos dados processados.\n",
        "    df = pd.DataFrame(data, columns=columns)\n",
        "\n",
        "    # Remover colunas totalmente vazias ou sem nome\n",
        "    df = df.dropna(axis=1, how='all')\n",
        "    df = df.loc[:, ~df.columns.str.contains('^Unnamed')]\n",
        "\n",
        "    return df\n",
        "\n",
        "# Substitua '70100000_Vazoes_I.csv' pelo nome do arquivo.\n",
        "file_path = '70100000_Vazoes_I.csv'\n",
        "df = read_complex_csv(file_path)"
      ],
      "metadata": {
        "id": "EIixEWvdIlSu"
      },
      "execution_count": null,
      "outputs": []
    },
    {
      "cell_type": "markdown",
      "source": [
        "Análise de Dados\n",
        "---\n",
        "___\n",
        "Análise inicial de dados onde é ajustado os dados de vazões para estar em conformidade com o estipulado como premissa em edital da disciplina. Nela também são ajustadas as colunas que inicialmente são entendidas como variáveis de String, portanto são ajustadas datas na forma de DateTime e vazões como Float"
      ],
      "metadata": {
        "id": "VYRu0RS4khCy"
      }
    },
    {
      "cell_type": "code",
      "source": [
        "# -----------------------------------------------------------------------------\n",
        "# Início da análise\n",
        "# -----------------------------------------------------------------------------\n",
        "\n",
        "# Converter a coluna 'Data' para o formato de data\n",
        "df['Data'] = pd.to_datetime(df['Data'], format='%d/%m/%Y')\n",
        "\n",
        "# Encontrar o ano mais recente nos dados\n",
        "most_recent_year = df['Data'].dt.year.max()\n",
        "print(f\"Ano mais recente nos dados: {most_recent_year}\")\n",
        "\n",
        "# Definir o ano de corte para desconsiderar os dois últimos anos\n",
        "year_cutoff = most_recent_year - 1\n",
        "print(f\"Os dados serão filtrados até o ano de: {year_cutoff - 1}\")\n",
        "\n",
        "# Filtrar o DataFrame para excluir os dois últimos anos\n",
        "df_filtered = df[df['Data'].dt.year < year_cutoff].copy()\n",
        "\n",
        "# Identificar as colunas de vazão, excluindo aquelas que contêm a palavra 'Status'\n",
        "vazao_cols = [col for col in df_filtered.columns if 'Vazao' in col and 'Status' not in col]\n",
        "print(f\"\\nColunas de vazão encontradas: {vazao_cols}\")\n",
        "\n",
        "# Desempilhar o DataFrame para obter uma única coluna com todos os valores de vazão\n",
        "df_melted_filtered = df_filtered.melt(value_vars=vazao_cols, value_name='Vazao')\n",
        "\n",
        "# Converter a coluna 'Vazao' para tipo numérico e remover valores ausentes\n",
        "df_melted_filtered['Vazao'] = pd.to_numeric(df_melted_filtered['Vazao'], errors='coerce')\n",
        "df_melted_filtered.dropna(subset=['Vazao'], inplace=True)\n",
        "\n",
        "# Calcular a vazão média de longo termo\n",
        "long_term_avg = df_melted_filtered['Vazao'].mean()\n",
        "\n",
        "print(f\"\\nVazão média de longo termo (excluindo os dois últimos anos): {long_term_avg:.2f} m³/s\")\n",
        "\n",
        "# Definir o intervalo de referência e o valor alvo\n",
        "lower_bound = 30\n",
        "upper_bound = 60\n",
        "target_avg = 45 # Ponto central do intervalo\n",
        "\n",
        "# Verificar se a vazão média está fora do intervalo\n",
        "if not (lower_bound <= long_term_avg <= upper_bound):\n",
        "    print(f\"\\nA vazão média de longo termo está fora do intervalo [{lower_bound}, {upper_bound}] m³/s.\")\n",
        "    print(\"Aplicando fator de correção.\")\n",
        "\n",
        "    # Calcular o fator de correção\n",
        "    correction_factor = target_avg / long_term_avg\n",
        "    print(f\"Fator de correção calculado: {correction_factor:.4f}\")\n",
        "\n",
        "    # Criar uma cópia do DataFrame original para aplicar a correção\n",
        "    df_corrected = df.copy()\n",
        "\n",
        "    # Aplicar o fator de correção a todas as colunas de vazão\n",
        "    for col in vazao_cols:\n",
        "        df_corrected[col] = pd.to_numeric(df_corrected[col], errors='coerce').mul(correction_factor)\n",
        "\n",
        "    # Recalcular a média de longo termo com os dados corrigidos para verificação\n",
        "    df_melted_corrected = df_corrected.melt(value_vars=vazao_cols, value_name='Vazao')\n",
        "    df_melted_corrected['Vazao'] = pd.to_numeric(df_melted_corrected['Vazao'], errors='coerce')\n",
        "    corrected_avg = df_melted_corrected['Vazao'].mean()\n",
        "    print(f\"Nova vazão média de longo termo após correção: {corrected_avg:.2f} m³/s\")\n",
        "\n",
        "    # Salvar o DataFrame corrigido em um novo arquivo CSV\n",
        "    df_corrected.to_csv('70100000_Vazoes_I_Corrigido.csv', sep=';', index=False, decimal=',')\n",
        "    print(\"\\nUm novo arquivo CSV com os dados corrigidos foi gerado e está disponível como '70100000_Vazoes_I_Corrigido.csv'.\")\n",
        "else:\n",
        "    print(f\"\\nA vazão média de longo termo já está dentro do intervalo [{lower_bound}, {upper_bound}] m³/s. Nenhuma correção é necessária.\")\n",
        "\n",
        "\n",
        "# Criando uma coluna de mediana:\n",
        "#df_corrected['Mediana'] = df_corrected[vazao_cols].median(axis=1)\n",
        "\n",
        "# Ajustantdo as colunas de media minima e maxima do df\n",
        "df_corrected['Media'] = pd.to_numeric(df_corrected['Media'], errors='coerce')\n",
        "df_corrected['Minima'] = pd.to_numeric(df_corrected['Minima'], errors='coerce')\n",
        "df_corrected['Maxima'] = pd.to_numeric(df_corrected['Maxima'], errors='coerce')\n",
        "\n",
        "\n",
        "\n",
        "for col in ['Media', 'Minima', 'Maxima']:\n",
        "    df_corrected[col] = df_corrected[col] * correction_factor\n",
        "\n",
        "# Criando uma coluna de mediana:\n",
        "df_corrected['Mediana'] = df_corrected[vazao_cols].median(axis=1)"
      ],
      "metadata": {
        "id": "85E7TNlMWjy7"
      },
      "execution_count": null,
      "outputs": []
    },
    {
      "cell_type": "markdown",
      "source": [
        "Plotagem dos Gráficos\n",
        "---\n",
        "___\n",
        "Aqui são plotados os gráficos de vazões para o histórico de 40 anos. São feitos os gráficos da vazão média mensal e curva de carga para todo o histórico.\n",
        "Também nesta secção se encontra a criação de um ano sintético o qual foi utilizado para fazer os gráficos das médias mensais e de Rippl."
      ],
      "metadata": {
        "id": "yw8HnZCeQGcy"
      }
    },
    {
      "cell_type": "code",
      "source": [
        "#grafico de vazao da média mensal de todos os anos\n",
        "df_corrected\n",
        "\n",
        "\n",
        "#plotando todos os valores de média\n",
        "df_corrected.plot(x='Data', y='Media', kind='line')\n",
        "plt.title('Vazão ao longo dos anos')\n",
        "plt.xlabel('data')\n",
        "plt.ylabel('vazão média')\n",
        "plt.grid(True)\n",
        "plt.show()\n",
        "\n",
        "#aqui plotar sazonalidades fazer media das medias, das minimas e das maximas dos meses.\n",
        "df_anosintetico = df_corrected\n",
        "# Extrai o mês da data\n",
        "df_anosintetico['Mes'] = df_anosintetico['Data'].dt.month\n",
        "\n",
        "# Agrupa por mês e calcula a média das médias, minimas, máximas e medianas:\n",
        "media_mensal_sintetica = df_anosintetico.groupby('Mes')['Media'].mean().reset_index()\n",
        "media_minima_sintetica = df_anosintetico.groupby('Mes')['Minima'].mean().reset_index()\n",
        "media_maxima_sintetica = df_anosintetico.groupby('Mes')['Maxima'].mean().reset_index()\n",
        "mediana_mensal_sintetica = df_anosintetico.groupby('Mes')['Mediana'].mean().reset_index()\n",
        "\n",
        "# Dicionário para converter número do mês em nome\n",
        "meses = {\n",
        "    1: 'Jan', 2: 'Fev', 3: 'Mar', 4: 'Abr', 5: 'Mai', 6: 'Jun',\n",
        "    7: 'Jul', 8: 'Ago', 9: 'Set', 10: 'Out', 11: 'Nov', 12: 'Dez'\n",
        "}\n",
        "media_mensal_sintetica['MesNome'] = media_mensal_sintetica['Mes'].map(meses)\n",
        "media_minima_sintetica['MesNome'] = media_mensal_sintetica['Mes'].map(meses)\n",
        "media_maxima_sintetica['MesNome'] = media_mensal_sintetica['Mes'].map(meses)\n",
        "mediana_mensal_sintetica['MesNome'] = mediana_mensal_sintetica['Mes'].map(meses)\n",
        "\n",
        "# Ordena corretamente os meses\n",
        "media_mensal_sintetica = media_mensal_sintetica.sort_values('Mes')\n",
        "\n",
        "\n",
        "# Junta os três DataFrames em um só, usando 'Mes' como chave\n",
        "df_plot = media_mensal_sintetica[['Mes', 'Media']].copy()\n",
        "df_plot['Minima'] = media_minima_sintetica['Minima']\n",
        "df_plot['Maxima'] = media_maxima_sintetica['Maxima']\n",
        "df_plot['MesNome'] = df_plot['Mes'].map(meses)\n",
        "\n",
        "# Ordena corretamente os meses\n",
        "df_plot = df_plot.sort_values('Mes')\n",
        "\n",
        "# Plotagem\n",
        "plt.figure(figsize=(12, 6))\n",
        "\n",
        "# Faixa entre mínima e máxima\n",
        "plt.fill_between(\n",
        "    df_plot['MesNome'],\n",
        "    df_plot['Minima'],\n",
        "    df_plot['Maxima'],\n",
        "    color='lightblue',\n",
        "    alpha=0.4,\n",
        "    label='Faixa (Mínima - Máxima)'\n",
        ")\n",
        "\n",
        "# Linha da média\n",
        "plt.plot(df_plot['MesNome'], df_plot['Media'], marker='o', color='blue', label='Média Mensal')\n",
        "\n",
        "# Linha da mínima\n",
        "plt.plot(df_plot['MesNome'], df_plot['Minima'], linestyle='--', color='green', label='Média Mínima')\n",
        "\n",
        "# Linha da máxima\n",
        "plt.plot(df_plot['MesNome'], df_plot['Maxima'], linestyle='--', color='red', label='Média Máxima')\n",
        "\n",
        "# Ajustes do gráfico\n",
        "plt.title('Ano Sintético da Vazão Média Mensal (com Mínima e Máxima)')\n",
        "plt.xlabel('Mês')\n",
        "plt.ylabel('Vazão')\n",
        "plt.legend()\n",
        "plt.grid(True)\n",
        "plt.tight_layout()\n",
        "plt.show()\n",
        "\n",
        "#Plotando a média\n",
        "plt.figure(figsize=(10, 5))\n",
        "\n",
        "# Linha da média mensal\n",
        "plt.plot(media_mensal_sintetica['MesNome'], media_mensal_sintetica['Media'],\n",
        "         marker='o', color='blue', label='Média Mensal')\n",
        "\n",
        "# Linha da mediana mensal\n",
        "plt.plot(\n",
        "    mediana_mensal_sintetica['MesNome'], mediana_mensal_sintetica['Mediana'],\n",
        "    marker='s', color='red', linestyle='--', label='Mediana Mensal'\n",
        ")\n",
        "\n",
        "# Ajustes do gráfico\n",
        "plt.title('Ano Sintético - Vazão Média Mensal')\n",
        "plt.xlabel('Mês')\n",
        "plt.ylabel('Vazão Média')\n",
        "plt.grid(True)\n",
        "plt.legend()\n",
        "plt.tight_layout()\n",
        "plt.show()\n",
        "\n",
        "\n",
        "# Plota o gráfico de XXX\n",
        "df_ordenado = df_corrected\n",
        "df_ordenado['Media'] = sorted(df_ordenado['Media'])\n",
        "df_corrected.plot(x='Data', y='Media', kind='line')\n",
        "plt.title('Curva de XXXX')\n",
        "plt.xlabel('variable')\n",
        "plt.ylabel('vazão')\n",
        "plt.grid(True)\n",
        "plt.show()\n"
      ],
      "metadata": {
        "id": "Gz1hwQ7jkhWm"
      },
      "execution_count": null,
      "outputs": []
    },
    {
      "cell_type": "markdown",
      "source": [
        "Grafico de Rippl\n",
        "---\n",
        "___"
      ],
      "metadata": {
        "id": "y0YgC9-TZ0h4"
      }
    },
    {
      "cell_type": "markdown",
      "source": [
        "### Reservatório\n",
        "\n"
      ],
      "metadata": {
        "id": "HyupKNUYzPFn"
      }
    },
    {
      "cell_type": "code",
      "source": [
        "# ============================================================\n",
        "# CÉLULA — Balanço mensal do reservatório\n",
        "# Vf = Vi + ΔV_Q, onde ΔV_Q = round(Q_in - Q_out, 3) * dias * 24 * 60 * 60\n",
        "# Cria VR = max(Vf) ao final\n",
        "# ============================================================\n",
        "\n",
        "import os\n",
        "import numpy as np\n",
        "import pandas as pd\n",
        "\n",
        "def _to_float(x):\n",
        "    if pd.isna(x): return np.nan\n",
        "    if isinstance(x, (int, float)): return float(x)\n",
        "    return float(str(x).replace(',', '.'))\n",
        "\n",
        "def _col(df, nome):\n",
        "    alvo = nome.strip().lower()\n",
        "    for k in df.columns:\n",
        "        if k.strip().lower() == alvo:\n",
        "            return k\n",
        "    raise KeyError(f\"Coluna obrigatória não encontrada: '{nome}'. Presentes: {list(df.columns)}\")\n",
        "\n",
        "# ---- entrada ----\n",
        "ARQ = r\"/content/PEE---2025/Reservatorio_1.xlsx\"\n",
        "if not os.path.exists(ARQ):\n",
        "    raise FileNotFoundError(f\"Arquivo não encontrado: {ARQ}\")\n",
        "\n",
        "df = pd.read_excel(ARQ)\n",
        "\n",
        "# Normaliza números\n",
        "for nome in [\"Qsintética\", \"Qsaida\"]:\n",
        "    df[_col(df, nome)] = df[_col(df, nome)].map(_to_float)\n",
        "\n",
        "# Dias (se não houver, usa calendário padrão)\n",
        "dias_padrao = [31,28,31,30,31,30,31,31,30,31,30,31]\n",
        "if any(cn.strip().lower() == \"dias\" for cn in df.columns):\n",
        "    df[\"Dias\"] = df[_col(df, \"Dias\")].map(_to_float)\n",
        "else:\n",
        "    df[\"Dias\"] = pd.Series(dias_padrao[:len(df)])\n",
        "\n",
        "# ---- balanço simples ----\n",
        "CASAS_Q = 3  # arredondamento de Qliq (m³/s)\n",
        "n = len(df)\n",
        "\n",
        "Vi_list, Vf_list, Qliq_list, dV_Q_list = [], [], [], []\n",
        "\n",
        "V_i = 0.0  # janeiro começa zerado\n",
        "for i in range(n):\n",
        "    Qin  = _to_float(df[_col(df, \"Qsintética\")].iloc[i])  # m³/s\n",
        "    Qout = _to_float(df[_col(df, \"Qsaida\")].iloc[i])      # m³/s\n",
        "    dias = float(df[\"Dias\"].iloc[i])\n",
        "\n",
        "    Qliq = round(Qin - Qout, CASAS_Q)               # m³/s\n",
        "    dV_Q = Qliq * dias * 24 * 60 * 60               # m³\n",
        "    V_f  = V_i + dV_Q                                # soma\n",
        "\n",
        "    Vi_list.append(V_i);  Vf_list.append(V_f)\n",
        "    Qliq_list.append(Qliq); dV_Q_list.append(dV_Q)\n",
        "\n",
        "    V_i = V_f  # próximo mês começa em Vf\n",
        "\n",
        "# ---- tabela final (somente balanço) ----\n",
        "out = pd.DataFrame({\n",
        "    \"Mês\": df[_col(df,\"Mês\")] if \"Mês\" in df.columns else np.arange(1, n+1),\n",
        "    \"Dias\": df[\"Dias\"].astype(int),\n",
        "    \"Q_in (m3/s)\": df[_col(df,\"Qsintética\")].round(3),\n",
        "    \"Q_out (m3/s)\": df[_col(df,\"Qsaida\")].round(3),\n",
        "    \"Qliq (m3/s)\": np.array(Qliq_list).round(CASAS_Q),\n",
        "    \"ΔV_Q (m3)\":   np.array(dV_Q_list).round(2),\n",
        "    \"Vi (m3)\":     np.array(Vi_list).round(2),\n",
        "    \"Vf (m3)\":     np.array(Vf_list).round(2),\n",
        "})\n",
        "\n",
        "# ---- VR: Volume do Reservatório = max(Vf) ----\n",
        "VRu = float(out[\"Vf (m3)\"].max() - out[\"Vf (m3)\"].min() )\n",
        "print(f\"VRu (Volume Útil do Reservatório) = {VRu:,.2f} m³\")"
      ],
      "metadata": {
        "colab": {
          "base_uri": "https://localhost:8080/"
        },
        "id": "mXz9zB17nmfU",
        "outputId": "bf3454b5-27e6-44bb-82eb-d775c35ed0dd"
      },
      "execution_count": 4,
      "outputs": [
        {
          "output_type": "stream",
          "name": "stdout",
          "text": [
            "VRu (Volume Útil do Reservatório) = 54,341,366.40 m³\n"
          ]
        }
      ]
    },
    {
      "cell_type": "code",
      "source": [],
      "metadata": {
        "id": "OyoRpNqioABg"
      },
      "execution_count": null,
      "outputs": []
    }
  ]
}